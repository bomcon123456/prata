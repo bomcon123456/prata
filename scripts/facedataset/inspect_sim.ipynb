{
 "cells": [
  {
   "cell_type": "code",
   "execution_count": 51,
   "id": "d427731a-f231-4baf-944e-331feb4d36b2",
   "metadata": {
    "tags": []
   },
   "outputs": [],
   "source": [
    "import numpy as np\n",
    "import matplotlib.pyplot as plt\n",
    "import seaborn as sns\n",
    "import shutil\n",
    "from pathlib import Path\n",
    "sns.set_style(\"white\")"
   ]
  },
  {
   "cell_type": "code",
   "execution_count": 2,
   "id": "60cb3676-d05c-4f30-9956-929497cf7b27",
   "metadata": {
    "tags": []
   },
   "outputs": [],
   "source": [
    "a = np.load(\"/lustre/scratch/client/vinai/users/trungdt21/workspace/matching/data/validation/extracted_no_move/CFP_FP/r100_arcface_feat/feat.npz\")"
   ]
  },
  {
   "cell_type": "code",
   "execution_count": 3,
   "id": "0532dabc-6991-42b3-b7f0-2f29973add20",
   "metadata": {
    "tags": []
   },
   "outputs": [],
   "source": [
    "b = a.get(\"arr_0\").reshape(7000, 2, 512)"
   ]
  },
  {
   "cell_type": "code",
   "execution_count": 4,
   "id": "b7fe0222-78e5-4a8e-ac5a-1fd553f04a8e",
   "metadata": {
    "tags": []
   },
   "outputs": [],
   "source": [
    "sims = []\n",
    "for pair in b:\n",
    "    sims.append(pair[0].dot(pair[1]))\n",
    "sims = np.array(sims)"
   ]
  },
  {
   "cell_type": "code",
   "execution_count": 12,
   "id": "3c8fc56b-2991-41c0-b825-f8ceaf353c33",
   "metadata": {
    "tags": []
   },
   "outputs": [
    {
     "data": {
      "text/plain": [
       "0.50899273"
      ]
     },
     "execution_count": 12,
     "metadata": {},
     "output_type": "execute_result"
    }
   ],
   "source": [
    "issamelist = np.load(\"/lustre/scratch/client/vinai/users/trungdt21/workspace/matching/data/validation/extracted_no_move/CFP_FP/issamelist.npy\")\n",
    "pos_sims = sims[issamelist]\n",
    "np.mean(pos_sims)"
   ]
  },
  {
   "cell_type": "code",
   "execution_count": 11,
   "id": "545d92a5-9b6b-4190-b637-6cbc34760446",
   "metadata": {
    "tags": []
   },
   "outputs": [
    {
     "data": {
      "image/png": "[encoded data removed]",
      "text/plain": [
       "<Figure size 576x288 with 1 Axes>"
      ]
     },
     "metadata": {
      "needs_background": "light"
     },
     "output_type": "display_data"
    }
   ],
   "source": [
    "fig = plt.figure(figsize=(8,4))\n",
    "plt.hist(pos_sims);"
   ]
  },
  {
   "cell_type": "code",
   "execution_count": 16,
   "id": "2bf48e4c-b450-4d58-96bd-43642d69b044",
   "metadata": {
    "tags": []
   },
   "outputs": [],
   "source": [
    "feats = np.load(\"/lustre/scratch/client/guardpro/trungdt21/research/face_gen/data/_processed/project_face_gen/VFHQ/v1/aligned112x112_10pereach/feats/r101/feat.npz\").get(\"arr_0\")"
   ]
  },
  {
   "cell_type": "code",
   "execution_count": 18,
   "id": "3fa63830-aa07-4baf-bf35-a021720bc95a",
   "metadata": {
    "tags": []
   },
   "outputs": [
    {
     "data": {
      "text/plain": [
       "(196047, 512)"
      ]
     },
     "execution_count": 18,
     "metadata": {},
     "output_type": "execute_result"
    }
   ],
   "source": [
    "feats.shape"
   ]
  },
  {
   "cell_type": "code",
   "execution_count": 19,
   "id": "2225b203-dd4b-43e6-9bcf-98217efe467e",
   "metadata": {
    "tags": []
   },
   "outputs": [],
   "source": [
    "with open(\"/lustre/scratch/client/guardpro/trungdt21/research/face_gen/data/_processed/project_face_gen/VFHQ/v1/aligned112x112_10pereach/feats/r101/paths.txt\", \"r\") as f:\n",
    "    lines = f.readlines()\n",
    "paths = list(map(lambda x: x.strip(), lines))\n",
    "        "
   ]
  },
  {
   "cell_type": "code",
   "execution_count": 24,
   "id": "9803807a-7aa5-42e0-b0d2-70744a1cf5bc",
   "metadata": {
    "tags": []
   },
   "outputs": [],
   "source": [
    "with open(\"/lustre/scratch/client/guardpro/trungdt21/research/face_gen/data/_processed/project_face_gen/VFHQ/v1/aligned112x112_10pereach/sample_3bins_v1/f2e.txt\", \"r\") as f:\n",
    "    pairs = f.readlines()\n",
    "pairs = list(map(lambda x: x.strip(), pairs))"
   ]
  },
  {
   "cell_type": "code",
   "execution_count": 27,
   "id": "06629170-9cbc-4996-ae33-8f75c533436a",
   "metadata": {
    "tags": []
   },
   "outputs": [],
   "source": [
    "issame_list = []\n",
    "for pair in pairs:\n",
    "    p1,p2,issame = pair.split(\"\\t\")\n",
    "    if issame == \"1\":\n",
    "        issame_list.append((p1,p2))"
   ]
  },
  {
   "cell_type": "code",
   "execution_count": 31,
   "id": "b9455f0c-1c46-47c3-9969-17b3d993ebfa",
   "metadata": {
    "tags": []
   },
   "outputs": [],
   "source": [
    "issame_list_to_idx = []\n",
    "for pair in issame_list:\n",
    "    issame_list_to_idx.append((paths.index(pair[0]), paths.index(pair[1])))"
   ]
  },
  {
   "cell_type": "code",
   "execution_count": 33,
   "id": "c17a7239-0489-4cb3-8f75-0a53a3d383c1",
   "metadata": {
    "tags": []
   },
   "outputs": [
    {
     "data": {
      "text/plain": [
       "(10000, 2, 512)"
      ]
     },
     "execution_count": 33,
     "metadata": {},
     "output_type": "execute_result"
    }
   ],
   "source": [
    "pair_feats = []\n",
    "for pair_idx in issame_list_to_idx:\n",
    "    pair_feats.append((feats[pair_idx[0]],feats[pair_idx[1]]))\n",
    "pair_feats = np.array(pair_feats)\n",
    "pair_feats.shape"
   ]
  },
  {
   "cell_type": "code",
   "execution_count": 34,
   "id": "88c6b60f-1e19-4812-a3c8-12b52103a563",
   "metadata": {
    "tags": []
   },
   "outputs": [],
   "source": [
    "sims = []\n",
    "for pair_feat in pair_feats:\n",
    "    sims.append(pair_feat[0].dot(pair_feat[1]))\n",
    "sims = np.array(sims)"
   ]
  },
  {
   "cell_type": "code",
   "execution_count": 37,
   "id": "62554ec4-bcb4-40ef-897d-6c1c08d7ecbd",
   "metadata": {
    "tags": []
   },
   "outputs": [
    {
     "data": {
      "image/png": "[encoded data removed]",
      "text/plain": [
       "<Figure size 576x288 with 1 Axes>"
      ]
     },
     "metadata": {
      "needs_background": "light"
     },
     "output_type": "display_data"
    }
   ],
   "source": [
    "fig = plt.figure(figsize=(8,4))\n",
    "plt.hist(sims);"
   ]
  },
  {
   "cell_type": "code",
   "execution_count": 39,
   "id": "e13daf5d-5b30-4def-8ab2-b30ad9db527b",
   "metadata": {
    "tags": []
   },
   "outputs": [],
   "source": [
    "sims_bad_ids = sims<0.2"
   ]
  },
  {
   "cell_type": "code",
   "execution_count": 42,
   "id": "cd93f9d4-c23f-4962-b796-031f5bdc368e",
   "metadata": {
    "tags": []
   },
   "outputs": [],
   "source": [
    "paths_npy = np.array(paths)"
   ]
  },
  {
   "cell_type": "code",
   "execution_count": 47,
   "id": "b05f6de9-5317-4d24-8c5d-da2b99a2e44c",
   "metadata": {
    "tags": []
   },
   "outputs": [],
   "source": [
    "issame_list_npy = np.array(issame_list)"
   ]
  },
  {
   "cell_type": "code",
   "execution_count": 48,
   "id": "5bab017f-5ecb-451c-afaf-0f7080f1e9ba",
   "metadata": {
    "tags": []
   },
   "outputs": [],
   "source": [
    "issame_list_npy_bad = issame_list_npy[sims_bad_ids]"
   ]
  },
  {
   "cell_type": "code",
   "execution_count": 57,
   "id": "92d95530-5bfc-4f89-9978-1c68b4032230",
   "metadata": {
    "tags": []
   },
   "outputs": [],
   "source": [
    "baddir=Path(\"./badaligned\")\n",
    "shutil.rmtree(baddir)\n",
    "srcdir = Path(\"/lustre/scratch/client/guardpro/trungdt21/research/face_gen/data/_processed/project_face_gen/VFHQ/v1/aligned112x112_10pereach/images\")\n",
    "baddir.mkdir(exist_ok=True, parents=True)\n",
    "for bad_pair in issame_list_npy_bad:\n",
    "    p1, p2 = bad_pair\n",
    "    p1, p2 = Path(p1), Path(p2)\n",
    "    dst1, dst2 = baddir/f\"{p1.parent.parent.name}_{p1.parent.name}_{p1.name}\", baddir/f\"{p2.parent.parent.name}_{p2.parent.name}_{p2.name}\"\n",
    "    shutil.copy2(srcdir/p1, dst1)\n",
    "    shutil.copy2(srcdir/p2, dst2)"
   ]
  },
  {
   "cell_type": "code",
   "execution_count": null,
   "id": "9476601b-d2f2-4db5-af18-b3cfb33fb94a",
   "metadata": {},
   "outputs": [],
   "source": [
    "shutil.rmtree(baddir)"
   ]
  }
 ],
 "metadata": {
  "kernelspec": {
   "display_name": "Python 3",
   "language": "python",
   "name": "python3"
  },
  "language_info": {
   "codemirror_mode": {
    "name": "ipython",
    "version": 3
   },
   "file_extension": ".py",
   "mimetype": "text/x-python",
   "name": "python",
   "nbconvert_exporter": "python",
   "pygments_lexer": "ipython3",
   "version": "3.7.11"
  }
 },
 "nbformat": 4,
 "nbformat_minor": 5
}
